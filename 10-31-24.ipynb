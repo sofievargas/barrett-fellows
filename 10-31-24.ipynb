{
 "cells": [
  {
   "cell_type": "code",
   "execution_count": 9,
   "id": "af1931a8-0288-475c-8a8c-32aaf9f1696a",
   "metadata": {},
   "outputs": [],
   "source": [
    "import networkx as nx\n",
    "import triad_utils\n",
    "import numpy as np\n",
    "import scipy.sparse as sp\n",
    "import matplotlib.pyplot as plt\n",
    "import methods\n",
    "import random as rn\n",
    "\n",
    "raw_data = \"soc-sign-bitcoinotc.csv\"\n",
    "with open(raw_data, 'r') as file:\n",
    "    lines = file.readlines()\n",
    "\n",
    "l = []\n",
    "for line in lines:\n",
    "    n1, n2 = line.strip().split(\",\")[0:2]\n",
    "    l.append((n1, n2))\n",
    "\n",
    "def convert_to_regular_triads(networkx_triads):\n",
    "    census = []\n",
    "    census.append(networkx_triads['021D'])\n",
    "    census.append(networkx_triads['021U'])\n",
    "    census.append(networkx_triads['021C'])\n",
    "    census.append(networkx_triads['111D'])\n",
    "    census.append(networkx_triads['111U'])\n",
    "    census.append(networkx_triads['201'])\n",
    "    census.append(networkx_triads['030T'])\n",
    "    census.append(networkx_triads['030C'])\n",
    "    census.append(networkx_triads['120D'])\n",
    "    census.append(networkx_triads['120U'])\n",
    "    census.append(networkx_triads['120C'])\n",
    "    census.append(networkx_triads['210'])\n",
    "    census.append(networkx_triads['300'])\n",
    "    return census\n",
    "\n"
   ]
  },
  {
   "cell_type": "code",
   "execution_count": 12,
   "id": "4dc174e1-0609-489c-aac2-25e1b4eb4826",
   "metadata": {},
   "outputs": [
    {
     "name": "stdout",
     "output_type": "stream",
     "text": [
      "[153801, 36648, 65143, 169731, 440712, 729665, 3706, 79, 2048, 2910, 1621, 9377, 13752]\n"
     ]
    }
   ],
   "source": [
    "data = nx.DiGraph(l)\n",
    "#print(list(data.nodes))\n",
    "census = convert_to_regular_triads(nx.triadic_census(data))\n",
    "print(census)"
   ]
  },
  {
   "cell_type": "code",
   "execution_count": null,
   "id": "03558641-77c5-4d0e-b822-82498dae0916",
   "metadata": {},
   "outputs": [],
   "source": [
    "#gzip -d soc-sign-bitcoinotc.csv.gz     \n",
    "#print(methods.triad_census(list(data.nodes), list(data.edges)))data_matrix = nx.adjacency_matrix(data)\n",
    "data_matrix = nx.adjacency_matrix(data)[3:][3:]\n",
    "data_matrix = data_matrix.toarray()\n",
    "significance_profile = triad_utils.triad_significance_profile(census, data_matrix, 20,100)\n",
    "profile_plot = plt.plot(significance_profile, \"o-\")\n",
    "plt.xticks(range(0,13),range(1,14))\n",
    "plt.axhline(y=0, color='black', linestyle='--', linewidth=1)\n",
    "image = plt.savefig(\"image.png\")"
   ]
  },
  {
   "cell_type": "raw",
   "id": "3511779f-6ccf-462e-82e3-3a4aaca2cfa6",
   "metadata": {},
   "source": [
    "- bitcoin otc\n",
    "- comm f2f\n",
    "- bitcoin alpha\n",
    "are nodes or edges limiting factor?"
   ]
  }
 ],
 "metadata": {
  "kernelspec": {
   "display_name": "Python 3 (ipykernel)",
   "language": "python",
   "name": "python3"
  },
  "language_info": {
   "codemirror_mode": {
    "name": "ipython",
    "version": 3
   },
   "file_extension": ".py",
   "mimetype": "text/x-python",
   "name": "python",
   "nbconvert_exporter": "python",
   "pygments_lexer": "ipython3",
   "version": "3.12.4"
  }
 },
 "nbformat": 4,
 "nbformat_minor": 5
}
