{
 "cells": [
  {
   "cell_type": "code",
   "execution_count": 1,
   "id": "d0e433d4-e69b-4e90-acb4-3e13ffb847d2",
   "metadata": {},
   "outputs": [],
   "source": [
    "import triad_utils as triads\n",
    "import networkx as nx\n",
    "import numpy as np\n",
    "import scipy.sparse as sp\n",
    "import matplotlib.pyplot as plt"
   ]
  },
  {
   "cell_type": "code",
   "execution_count": 2,
   "id": "bdeea8cd-5dd9-479a-a16f-55f30cf7bd87",
   "metadata": {},
   "outputs": [],
   "source": [
    "raw_data = \"newinput.edges\"\n",
    "with open(raw_data, 'r') as file:\n",
    "    lines = file.readlines()\n",
    "\n",
    "l = []\n",
    "for line in lines:\n",
    "    n1, n2 = line.strip().split(\" \")[0:2]\n",
    "    l.append((n1, n2))\n",
    "\n",
    "\n",
    "data = nx.DiGraph(l)"
   ]
  },
  {
   "cell_type": "code",
   "execution_count": 3,
   "id": "7694a9e8-0fd3-47ac-8aab-b821dfb056d1",
   "metadata": {},
   "outputs": [
    {
     "data": {
      "text/plain": [
       "<networkx.classes.digraph.DiGraph at 0x123f1ac90>"
      ]
     },
     "execution_count": 3,
     "metadata": {},
     "output_type": "execute_result"
    }
   ],
   "source": [
    "data"
   ]
  },
  {
   "cell_type": "code",
   "execution_count": 4,
   "id": "1316511c-1eb1-449b-b84a-994940cb719f",
   "metadata": {},
   "outputs": [],
   "source": [
    "data_matrix = nx.adjacency_matrix(data)\n",
    "data_matrix = data_matrix.toarray()"
   ]
  },
  {
   "cell_type": "code",
   "execution_count": 5,
   "id": "405460a2-ab30-4ce4-b3d6-4bfcf631bf14",
   "metadata": {},
   "outputs": [
    {
     "name": "stdout",
     "output_type": "stream",
     "text": [
      "[ 0  0  0  0  0  0 10  0  0  0  0  0  0]\n"
     ]
    }
   ],
   "source": [
    "\n",
    "print(triads.triad_census(data_matrix))"
   ]
  },
  {
   "cell_type": "code",
   "execution_count": null,
   "id": "f943bce6-da9f-4941-a714-2f92b6e07d72",
   "metadata": {},
   "outputs": [],
   "source": [
    "edge_randoms = len(triads.edge_list(data_matrix))*10\n",
    "print(edge_randoms)\n",
    "print(triads.triad_significance_profile(data_matrix,10,4))\n",
    "significance_profile = triads.triad_significance_profile(data_matrix,10,4)\n",
    "plt.plot(significance_profile)"
   ]
  },
  {
   "cell_type": "code",
   "execution_count": null,
   "id": "f13d886b-2930-4fd6-8a6c-095bef10512d",
   "metadata": {},
   "outputs": [
    {
     "name": "stdout",
     "output_type": "stream",
     "text": [
      "profile made\n"
     ]
    }
   ],
   "source": [
    "triads.triad_significance_profile(data_matrix,10,4)"
   ]
  },
  {
   "cell_type": "code",
   "execution_count": null,
   "id": "1da98f84-1660-4ce7-beda-1e6d0f964cc4",
   "metadata": {},
   "outputs": [],
   "source": []
  }
 ],
 "metadata": {
  "kernelspec": {
   "display_name": "Python 3 (ipykernel)",
   "language": "python",
   "name": "python3"
  },
  "language_info": {
   "codemirror_mode": {
    "name": "ipython",
    "version": 3
   },
   "file_extension": ".py",
   "mimetype": "text/x-python",
   "name": "python",
   "nbconvert_exporter": "python",
   "pygments_lexer": "ipython3",
   "version": "3.12.4"
  }
 },
 "nbformat": 4,
 "nbformat_minor": 5
}
